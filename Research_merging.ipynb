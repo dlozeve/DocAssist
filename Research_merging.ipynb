{
 "cells": [
  {
   "cell_type": "code",
   "execution_count": 13,
   "metadata": {
    "collapsed": true
   },
   "outputs": [],
   "source": [
    "import pandas as pd\n",
    "import os"
   ]
  },
  {
   "cell_type": "code",
   "execution_count": 23,
   "metadata": {
    "collapsed": true
   },
   "outputs": [],
   "source": [
    "working_dir_path = os.path.join(os.path.abspath(''), 'Medical_papers')\n",
    "\n",
    "papers_path = os.path.join(working_dir_path, 'paper_details_sample.csv')\n",
    "mesh_path = os.path.join(working_dir_path, 'mesh_sample.csv')\n",
    "mesh_path2 = os.path.join(working_dir_path, 'mesh_sample2(1).csv')\n",
    "\n",
    "full_papers_path = os.path.join(working_dir_path, 'full_paper_details.csv')"
   ]
  },
  {
   "cell_type": "code",
   "execution_count": 15,
   "metadata": {
    "collapsed": true
   },
   "outputs": [],
   "source": [
    "papers = pd.read_csv(papers_path,\n",
    "                     sep=',',\n",
    "                     header=0,\n",
    "                     encoding='utf8',\n",
    "                     dtype='str')"
   ]
  },
  {
   "cell_type": "code",
   "execution_count": 16,
   "metadata": {
    "collapsed": false
   },
   "outputs": [
    {
     "data": {
      "text/html": [
       "<div>\n",
       "<table border=\"1\" class=\"dataframe\">\n",
       "  <thead>\n",
       "    <tr style=\"text-align: right;\">\n",
       "      <th></th>\n",
       "      <th>pmid</th>\n",
       "      <th>doi</th>\n",
       "      <th>num_authors</th>\n",
       "      <th>year</th>\n",
       "      <th>month</th>\n",
       "      <th>day</th>\n",
       "      <th>title</th>\n",
       "      <th>issn</th>\n",
       "      <th>issn_type</th>\n",
       "      <th>volume</th>\n",
       "      <th>issue</th>\n",
       "      <th>journal_title</th>\n",
       "      <th>journal_title_iso</th>\n",
       "    </tr>\n",
       "  </thead>\n",
       "  <tbody>\n",
       "    <tr>\n",
       "      <th>0</th>\n",
       "      <td>27131192</td>\n",
       "      <td>10.1016/j.gaitpost.2016.03.008</td>\n",
       "      <td>6</td>\n",
       "      <td>2016</td>\n",
       "      <td>5</td>\n",
       "      <td>1</td>\n",
       "      <td>Does \"transition shoe\" promote an intermediate...</td>\n",
       "      <td>1879-2219</td>\n",
       "      <td>Electronic</td>\n",
       "      <td>46</td>\n",
       "      <td>NaN</td>\n",
       "      <td>Gait &amp; posture</td>\n",
       "      <td>Gait Posture</td>\n",
       "    </tr>\n",
       "    <tr>\n",
       "      <th>1</th>\n",
       "      <td>27131193</td>\n",
       "      <td>10.1016/j.gaitpost.2016.03.012</td>\n",
       "      <td>5</td>\n",
       "      <td>2016</td>\n",
       "      <td>5</td>\n",
       "      <td>1</td>\n",
       "      <td>Biomechanical strategies implemented to compen...</td>\n",
       "      <td>1879-2219</td>\n",
       "      <td>Electronic</td>\n",
       "      <td>46</td>\n",
       "      <td>NaN</td>\n",
       "      <td>Gait &amp; posture</td>\n",
       "      <td>Gait Posture</td>\n",
       "    </tr>\n",
       "    <tr>\n",
       "      <th>2</th>\n",
       "      <td>27131194</td>\n",
       "      <td>10.1016/j.gaitpost.2016.03.006</td>\n",
       "      <td>5</td>\n",
       "      <td>2016</td>\n",
       "      <td>5</td>\n",
       "      <td>1</td>\n",
       "      <td>Effects of soft tissue artifacts on differenti...</td>\n",
       "      <td>1879-2219</td>\n",
       "      <td>Electronic</td>\n",
       "      <td>46</td>\n",
       "      <td>NaN</td>\n",
       "      <td>Gait &amp; posture</td>\n",
       "      <td>Gait Posture</td>\n",
       "    </tr>\n",
       "    <tr>\n",
       "      <th>3</th>\n",
       "      <td>27131195</td>\n",
       "      <td>10.1016/j.gaitpost.2016.03.002</td>\n",
       "      <td>8</td>\n",
       "      <td>2016</td>\n",
       "      <td>5</td>\n",
       "      <td>1</td>\n",
       "      <td>Normative EMG patterns of ankle muscle co-cont...</td>\n",
       "      <td>1879-2219</td>\n",
       "      <td>Electronic</td>\n",
       "      <td>46</td>\n",
       "      <td>NaN</td>\n",
       "      <td>Gait &amp; posture</td>\n",
       "      <td>Gait Posture</td>\n",
       "    </tr>\n",
       "    <tr>\n",
       "      <th>4</th>\n",
       "      <td>27131196</td>\n",
       "      <td>10.1016/j.gaitpost.2016.03.005</td>\n",
       "      <td>3</td>\n",
       "      <td>2016</td>\n",
       "      <td>5</td>\n",
       "      <td>1</td>\n",
       "      <td>The effects of predictability on inter-limb po...</td>\n",
       "      <td>1879-2219</td>\n",
       "      <td>Electronic</td>\n",
       "      <td>46</td>\n",
       "      <td>NaN</td>\n",
       "      <td>Gait &amp; posture</td>\n",
       "      <td>Gait Posture</td>\n",
       "    </tr>\n",
       "  </tbody>\n",
       "</table>\n",
       "</div>"
      ],
      "text/plain": [
       "       pmid                             doi num_authors  year month day  \\\n",
       "0  27131192  10.1016/j.gaitpost.2016.03.008           6  2016     5   1   \n",
       "1  27131193  10.1016/j.gaitpost.2016.03.012           5  2016     5   1   \n",
       "2  27131194  10.1016/j.gaitpost.2016.03.006           5  2016     5   1   \n",
       "3  27131195  10.1016/j.gaitpost.2016.03.002           8  2016     5   1   \n",
       "4  27131196  10.1016/j.gaitpost.2016.03.005           3  2016     5   1   \n",
       "\n",
       "                                               title       issn   issn_type  \\\n",
       "0  Does \"transition shoe\" promote an intermediate...  1879-2219  Electronic   \n",
       "1  Biomechanical strategies implemented to compen...  1879-2219  Electronic   \n",
       "2  Effects of soft tissue artifacts on differenti...  1879-2219  Electronic   \n",
       "3  Normative EMG patterns of ankle muscle co-cont...  1879-2219  Electronic   \n",
       "4  The effects of predictability on inter-limb po...  1879-2219  Electronic   \n",
       "\n",
       "  volume issue   journal_title journal_title_iso  \n",
       "0     46   NaN  Gait & posture      Gait Posture  \n",
       "1     46   NaN  Gait & posture      Gait Posture  \n",
       "2     46   NaN  Gait & posture      Gait Posture  \n",
       "3     46   NaN  Gait & posture      Gait Posture  \n",
       "4     46   NaN  Gait & posture      Gait Posture  "
      ]
     },
     "execution_count": 16,
     "metadata": {},
     "output_type": "execute_result"
    }
   ],
   "source": [
    "papers.head()"
   ]
  },
  {
   "cell_type": "code",
   "execution_count": 24,
   "metadata": {
    "collapsed": false
   },
   "outputs": [
    {
     "ename": "CParserError",
     "evalue": "Error tokenizing data. C error: Expected 5 fields in line 3, saw 9\n",
     "output_type": "error",
     "traceback": [
      "\u001b[0;31m---------------------------------------------------------------------------\u001b[0m",
      "\u001b[0;31mCParserError\u001b[0m                              Traceback (most recent call last)",
      "\u001b[0;32m<ipython-input-24-e50f000568be>\u001b[0m in \u001b[0;36m<module>\u001b[0;34m()\u001b[0m\n\u001b[1;32m      3\u001b[0m                    \u001b[0mheader\u001b[0m\u001b[1;33m=\u001b[0m\u001b[1;36m0\u001b[0m\u001b[1;33m,\u001b[0m\u001b[1;33m\u001b[0m\u001b[0m\n\u001b[1;32m      4\u001b[0m                    \u001b[0mencoding\u001b[0m\u001b[1;33m=\u001b[0m\u001b[1;34m'utf8'\u001b[0m\u001b[1;33m,\u001b[0m\u001b[1;33m\u001b[0m\u001b[0m\n\u001b[0;32m----> 5\u001b[0;31m                    dtype='str')\n\u001b[0m",
      "\u001b[0;32mC:\\Program Files\\Anaconda3\\lib\\site-packages\\pandas\\io\\parsers.py\u001b[0m in \u001b[0;36mparser_f\u001b[0;34m(filepath_or_buffer, sep, delimiter, header, names, index_col, usecols, squeeze, prefix, mangle_dupe_cols, dtype, engine, converters, true_values, false_values, skipinitialspace, skiprows, skipfooter, nrows, na_values, keep_default_na, na_filter, verbose, skip_blank_lines, parse_dates, infer_datetime_format, keep_date_col, date_parser, dayfirst, iterator, chunksize, compression, thousands, decimal, lineterminator, quotechar, quoting, escapechar, comment, encoding, dialect, tupleize_cols, error_bad_lines, warn_bad_lines, skip_footer, doublequote, delim_whitespace, as_recarray, compact_ints, use_unsigned, low_memory, buffer_lines, memory_map, float_precision)\u001b[0m\n\u001b[1;32m    560\u001b[0m                     skip_blank_lines=skip_blank_lines)\n\u001b[1;32m    561\u001b[0m \u001b[1;33m\u001b[0m\u001b[0m\n\u001b[0;32m--> 562\u001b[0;31m         \u001b[1;32mreturn\u001b[0m \u001b[0m_read\u001b[0m\u001b[1;33m(\u001b[0m\u001b[0mfilepath_or_buffer\u001b[0m\u001b[1;33m,\u001b[0m \u001b[0mkwds\u001b[0m\u001b[1;33m)\u001b[0m\u001b[1;33m\u001b[0m\u001b[0m\n\u001b[0m\u001b[1;32m    563\u001b[0m \u001b[1;33m\u001b[0m\u001b[0m\n\u001b[1;32m    564\u001b[0m     \u001b[0mparser_f\u001b[0m\u001b[1;33m.\u001b[0m\u001b[0m__name__\u001b[0m \u001b[1;33m=\u001b[0m \u001b[0mname\u001b[0m\u001b[1;33m\u001b[0m\u001b[0m\n",
      "\u001b[0;32mC:\\Program Files\\Anaconda3\\lib\\site-packages\\pandas\\io\\parsers.py\u001b[0m in \u001b[0;36m_read\u001b[0;34m(filepath_or_buffer, kwds)\u001b[0m\n\u001b[1;32m    323\u001b[0m         \u001b[1;32mreturn\u001b[0m \u001b[0mparser\u001b[0m\u001b[1;33m\u001b[0m\u001b[0m\n\u001b[1;32m    324\u001b[0m \u001b[1;33m\u001b[0m\u001b[0m\n\u001b[0;32m--> 325\u001b[0;31m     \u001b[1;32mreturn\u001b[0m \u001b[0mparser\u001b[0m\u001b[1;33m.\u001b[0m\u001b[0mread\u001b[0m\u001b[1;33m(\u001b[0m\u001b[1;33m)\u001b[0m\u001b[1;33m\u001b[0m\u001b[0m\n\u001b[0m\u001b[1;32m    326\u001b[0m \u001b[1;33m\u001b[0m\u001b[0m\n\u001b[1;32m    327\u001b[0m _parser_defaults = {\n",
      "\u001b[0;32mC:\\Program Files\\Anaconda3\\lib\\site-packages\\pandas\\io\\parsers.py\u001b[0m in \u001b[0;36mread\u001b[0;34m(self, nrows)\u001b[0m\n\u001b[1;32m    813\u001b[0m                 \u001b[1;32mraise\u001b[0m \u001b[0mValueError\u001b[0m\u001b[1;33m(\u001b[0m\u001b[1;34m'skip_footer not supported for iteration'\u001b[0m\u001b[1;33m)\u001b[0m\u001b[1;33m\u001b[0m\u001b[0m\n\u001b[1;32m    814\u001b[0m \u001b[1;33m\u001b[0m\u001b[0m\n\u001b[0;32m--> 815\u001b[0;31m         \u001b[0mret\u001b[0m \u001b[1;33m=\u001b[0m \u001b[0mself\u001b[0m\u001b[1;33m.\u001b[0m\u001b[0m_engine\u001b[0m\u001b[1;33m.\u001b[0m\u001b[0mread\u001b[0m\u001b[1;33m(\u001b[0m\u001b[0mnrows\u001b[0m\u001b[1;33m)\u001b[0m\u001b[1;33m\u001b[0m\u001b[0m\n\u001b[0m\u001b[1;32m    816\u001b[0m \u001b[1;33m\u001b[0m\u001b[0m\n\u001b[1;32m    817\u001b[0m         \u001b[1;32mif\u001b[0m \u001b[0mself\u001b[0m\u001b[1;33m.\u001b[0m\u001b[0moptions\u001b[0m\u001b[1;33m.\u001b[0m\u001b[0mget\u001b[0m\u001b[1;33m(\u001b[0m\u001b[1;34m'as_recarray'\u001b[0m\u001b[1;33m)\u001b[0m\u001b[1;33m:\u001b[0m\u001b[1;33m\u001b[0m\u001b[0m\n",
      "\u001b[0;32mC:\\Program Files\\Anaconda3\\lib\\site-packages\\pandas\\io\\parsers.py\u001b[0m in \u001b[0;36mread\u001b[0;34m(self, nrows)\u001b[0m\n\u001b[1;32m   1312\u001b[0m     \u001b[1;32mdef\u001b[0m \u001b[0mread\u001b[0m\u001b[1;33m(\u001b[0m\u001b[0mself\u001b[0m\u001b[1;33m,\u001b[0m \u001b[0mnrows\u001b[0m\u001b[1;33m=\u001b[0m\u001b[1;32mNone\u001b[0m\u001b[1;33m)\u001b[0m\u001b[1;33m:\u001b[0m\u001b[1;33m\u001b[0m\u001b[0m\n\u001b[1;32m   1313\u001b[0m         \u001b[1;32mtry\u001b[0m\u001b[1;33m:\u001b[0m\u001b[1;33m\u001b[0m\u001b[0m\n\u001b[0;32m-> 1314\u001b[0;31m             \u001b[0mdata\u001b[0m \u001b[1;33m=\u001b[0m \u001b[0mself\u001b[0m\u001b[1;33m.\u001b[0m\u001b[0m_reader\u001b[0m\u001b[1;33m.\u001b[0m\u001b[0mread\u001b[0m\u001b[1;33m(\u001b[0m\u001b[0mnrows\u001b[0m\u001b[1;33m)\u001b[0m\u001b[1;33m\u001b[0m\u001b[0m\n\u001b[0m\u001b[1;32m   1315\u001b[0m         \u001b[1;32mexcept\u001b[0m \u001b[0mStopIteration\u001b[0m\u001b[1;33m:\u001b[0m\u001b[1;33m\u001b[0m\u001b[0m\n\u001b[1;32m   1316\u001b[0m             \u001b[1;32mif\u001b[0m \u001b[0mself\u001b[0m\u001b[1;33m.\u001b[0m\u001b[0m_first_chunk\u001b[0m\u001b[1;33m:\u001b[0m\u001b[1;33m\u001b[0m\u001b[0m\n",
      "\u001b[0;32mpandas\\parser.pyx\u001b[0m in \u001b[0;36mpandas.parser.TextReader.read (pandas\\parser.c:8748)\u001b[0;34m()\u001b[0m\n",
      "\u001b[0;32mpandas\\parser.pyx\u001b[0m in \u001b[0;36mpandas.parser.TextReader._read_low_memory (pandas\\parser.c:9003)\u001b[0;34m()\u001b[0m\n",
      "\u001b[0;32mpandas\\parser.pyx\u001b[0m in \u001b[0;36mpandas.parser.TextReader._read_rows (pandas\\parser.c:9731)\u001b[0;34m()\u001b[0m\n",
      "\u001b[0;32mpandas\\parser.pyx\u001b[0m in \u001b[0;36mpandas.parser.TextReader._tokenize_rows (pandas\\parser.c:9602)\u001b[0;34m()\u001b[0m\n",
      "\u001b[0;32mpandas\\parser.pyx\u001b[0m in \u001b[0;36mpandas.parser.raise_parser_error (pandas\\parser.c:23325)\u001b[0;34m()\u001b[0m\n",
      "\u001b[0;31mCParserError\u001b[0m: Error tokenizing data. C error: Expected 5 fields in line 3, saw 9\n"
     ]
    }
   ],
   "source": [
    "mesh = pd.read_csv(mesh_path2,\n",
    "                   sep=',',\n",
    "                   header=0,\n",
    "                   encoding='utf8',\n",
    "                   dtype='str')"
   ]
  },
  {
   "cell_type": "code",
   "execution_count": 21,
   "metadata": {
    "collapsed": false,
    "scrolled": true
   },
   "outputs": [
    {
     "data": {
      "text/html": [
       "<div>\n",
       "<table border=\"1\" class=\"dataframe\">\n",
       "  <thead>\n",
       "    <tr style=\"text-align: right;\">\n",
       "      <th></th>\n",
       "      <th>pmid</th>\n",
       "      <th>descriptor_id</th>\n",
       "      <th>descriptor_name</th>\n",
       "      <th>descriptor_major_topic</th>\n",
       "      <th>qualifiers</th>\n",
       "    </tr>\n",
       "  </thead>\n",
       "  <tbody>\n",
       "    <tr>\n",
       "      <th>0</th>\n",
       "      <td>20220350</td>\n",
       "      <td>D000293</td>\n",
       "      <td>Adolescent</td>\n",
       "      <td>N</td>\n",
       "      <td>[]</td>\n",
       "    </tr>\n",
       "    <tr>\n",
       "      <th>1</th>\n",
       "      <td>20220350</td>\n",
       "      <td>D002648</td>\n",
       "      <td>Child</td>\n",
       "      <td>N</td>\n",
       "      <td>[]</td>\n",
       "    </tr>\n",
       "    <tr>\n",
       "      <th>2</th>\n",
       "      <td>20220350</td>\n",
       "      <td>D005820</td>\n",
       "      <td>Genetic Testing</td>\n",
       "      <td>N</td>\n",
       "      <td>[]</td>\n",
       "    </tr>\n",
       "    <tr>\n",
       "      <th>3</th>\n",
       "      <td>20220350</td>\n",
       "      <td>D006801</td>\n",
       "      <td>Humans</td>\n",
       "      <td>N</td>\n",
       "      <td>[]</td>\n",
       "    </tr>\n",
       "    <tr>\n",
       "      <th>4</th>\n",
       "      <td>20220350</td>\n",
       "      <td>D008382</td>\n",
       "      <td>Marfan Syndrome</td>\n",
       "      <td>N</td>\n",
       "      <td>['diagnosis', 'drug therapy', 'epidemiology', ...</td>\n",
       "    </tr>\n",
       "  </tbody>\n",
       "</table>\n",
       "</div>"
      ],
      "text/plain": [
       "       pmid descriptor_id  descriptor_name descriptor_major_topic  \\\n",
       "0  20220350       D000293       Adolescent                      N   \n",
       "1  20220350       D002648            Child                      N   \n",
       "2  20220350       D005820  Genetic Testing                      N   \n",
       "3  20220350       D006801           Humans                      N   \n",
       "4  20220350       D008382  Marfan Syndrome                      N   \n",
       "\n",
       "                                          qualifiers  \n",
       "0                                                 []  \n",
       "1                                                 []  \n",
       "2                                                 []  \n",
       "3                                                 []  \n",
       "4  ['diagnosis', 'drug therapy', 'epidemiology', ...  "
      ]
     },
     "execution_count": 21,
     "metadata": {},
     "output_type": "execute_result"
    }
   ],
   "source": [
    "mesh.head()"
   ]
  },
  {
   "cell_type": "code",
   "execution_count": 7,
   "metadata": {
    "collapsed": false
   },
   "outputs": [
    {
     "data": {
      "text/plain": [
       "Index(['pmid', 'doi', 'num_authors', 'year', 'month', 'day', 'title', 'issn',\n",
       "       'issn_type', 'volume', 'issue', 'journal_title', 'journal_title_iso'],\n",
       "      dtype='object')"
      ]
     },
     "execution_count": 7,
     "metadata": {},
     "output_type": "execute_result"
    }
   ],
   "source": [
    "papers.columns"
   ]
  },
  {
   "cell_type": "code",
   "execution_count": 8,
   "metadata": {
    "collapsed": false
   },
   "outputs": [
    {
     "name": "stdout",
     "output_type": "stream",
     "text": [
      "(399, 13)\n",
      "(399, 5)\n"
     ]
    }
   ],
   "source": [
    "print(papers.shape)\n",
    "print(mesh.shape)"
   ]
  },
  {
   "cell_type": "code",
   "execution_count": 9,
   "metadata": {
    "collapsed": false
   },
   "outputs": [],
   "source": [
    "full_papers = papers.join(mesh, how=\"left\", rsuffix=\"_mesh\")"
   ]
  },
  {
   "cell_type": "code",
   "execution_count": 10,
   "metadata": {
    "collapsed": false
   },
   "outputs": [
    {
     "data": {
      "text/plain": [
       "(399, 18)"
      ]
     },
     "execution_count": 10,
     "metadata": {},
     "output_type": "execute_result"
    }
   ],
   "source": [
    "full_papers.shape"
   ]
  },
  {
   "cell_type": "code",
   "execution_count": 11,
   "metadata": {
    "collapsed": false
   },
   "outputs": [
    {
     "data": {
      "text/html": [
       "<div>\n",
       "<table border=\"1\" class=\"dataframe\">\n",
       "  <thead>\n",
       "    <tr style=\"text-align: right;\">\n",
       "      <th></th>\n",
       "      <th>pmid</th>\n",
       "      <th>doi</th>\n",
       "      <th>num_authors</th>\n",
       "      <th>year</th>\n",
       "      <th>month</th>\n",
       "      <th>day</th>\n",
       "      <th>title</th>\n",
       "      <th>issn</th>\n",
       "      <th>issn_type</th>\n",
       "      <th>volume</th>\n",
       "      <th>issue</th>\n",
       "      <th>journal_title</th>\n",
       "      <th>journal_title_iso</th>\n",
       "      <th>pmid_mesh</th>\n",
       "      <th>descriptor_id</th>\n",
       "      <th>descriptor_name</th>\n",
       "      <th>descriptor_major_topic</th>\n",
       "      <th>qualifiers</th>\n",
       "    </tr>\n",
       "  </thead>\n",
       "  <tbody>\n",
       "    <tr>\n",
       "      <th>0</th>\n",
       "      <td>27131192</td>\n",
       "      <td>10.1016/j.gaitpost.2016.03.008</td>\n",
       "      <td>6</td>\n",
       "      <td>2016</td>\n",
       "      <td>5</td>\n",
       "      <td>1</td>\n",
       "      <td>Does \"transition shoe\" promote an intermediate...</td>\n",
       "      <td>1879-2219</td>\n",
       "      <td>Electronic</td>\n",
       "      <td>46</td>\n",
       "      <td>NaN</td>\n",
       "      <td>Gait &amp; posture</td>\n",
       "      <td>Gait Posture</td>\n",
       "      <td>20220350</td>\n",
       "      <td>D000293</td>\n",
       "      <td>Adolescent</td>\n",
       "      <td>N</td>\n",
       "      <td>[]</td>\n",
       "    </tr>\n",
       "    <tr>\n",
       "      <th>1</th>\n",
       "      <td>27131193</td>\n",
       "      <td>10.1016/j.gaitpost.2016.03.012</td>\n",
       "      <td>5</td>\n",
       "      <td>2016</td>\n",
       "      <td>5</td>\n",
       "      <td>1</td>\n",
       "      <td>Biomechanical strategies implemented to compen...</td>\n",
       "      <td>1879-2219</td>\n",
       "      <td>Electronic</td>\n",
       "      <td>46</td>\n",
       "      <td>NaN</td>\n",
       "      <td>Gait &amp; posture</td>\n",
       "      <td>Gait Posture</td>\n",
       "      <td>20220350</td>\n",
       "      <td>D002648</td>\n",
       "      <td>Child</td>\n",
       "      <td>N</td>\n",
       "      <td>[]</td>\n",
       "    </tr>\n",
       "    <tr>\n",
       "      <th>2</th>\n",
       "      <td>27131194</td>\n",
       "      <td>10.1016/j.gaitpost.2016.03.006</td>\n",
       "      <td>5</td>\n",
       "      <td>2016</td>\n",
       "      <td>5</td>\n",
       "      <td>1</td>\n",
       "      <td>Effects of soft tissue artifacts on differenti...</td>\n",
       "      <td>1879-2219</td>\n",
       "      <td>Electronic</td>\n",
       "      <td>46</td>\n",
       "      <td>NaN</td>\n",
       "      <td>Gait &amp; posture</td>\n",
       "      <td>Gait Posture</td>\n",
       "      <td>20220350</td>\n",
       "      <td>D005820</td>\n",
       "      <td>Genetic Testing</td>\n",
       "      <td>N</td>\n",
       "      <td>[]</td>\n",
       "    </tr>\n",
       "    <tr>\n",
       "      <th>3</th>\n",
       "      <td>27131195</td>\n",
       "      <td>10.1016/j.gaitpost.2016.03.002</td>\n",
       "      <td>8</td>\n",
       "      <td>2016</td>\n",
       "      <td>5</td>\n",
       "      <td>1</td>\n",
       "      <td>Normative EMG patterns of ankle muscle co-cont...</td>\n",
       "      <td>1879-2219</td>\n",
       "      <td>Electronic</td>\n",
       "      <td>46</td>\n",
       "      <td>NaN</td>\n",
       "      <td>Gait &amp; posture</td>\n",
       "      <td>Gait Posture</td>\n",
       "      <td>20220350</td>\n",
       "      <td>D006801</td>\n",
       "      <td>Humans</td>\n",
       "      <td>N</td>\n",
       "      <td>[]</td>\n",
       "    </tr>\n",
       "    <tr>\n",
       "      <th>4</th>\n",
       "      <td>27131196</td>\n",
       "      <td>10.1016/j.gaitpost.2016.03.005</td>\n",
       "      <td>3</td>\n",
       "      <td>2016</td>\n",
       "      <td>5</td>\n",
       "      <td>1</td>\n",
       "      <td>The effects of predictability on inter-limb po...</td>\n",
       "      <td>1879-2219</td>\n",
       "      <td>Electronic</td>\n",
       "      <td>46</td>\n",
       "      <td>NaN</td>\n",
       "      <td>Gait &amp; posture</td>\n",
       "      <td>Gait Posture</td>\n",
       "      <td>20220350</td>\n",
       "      <td>D008382</td>\n",
       "      <td>Marfan Syndrome</td>\n",
       "      <td>N</td>\n",
       "      <td>['diagnosis', 'drug therapy', 'epidemiology', ...</td>\n",
       "    </tr>\n",
       "  </tbody>\n",
       "</table>\n",
       "</div>"
      ],
      "text/plain": [
       "       pmid                             doi num_authors  year month day  \\\n",
       "0  27131192  10.1016/j.gaitpost.2016.03.008           6  2016     5   1   \n",
       "1  27131193  10.1016/j.gaitpost.2016.03.012           5  2016     5   1   \n",
       "2  27131194  10.1016/j.gaitpost.2016.03.006           5  2016     5   1   \n",
       "3  27131195  10.1016/j.gaitpost.2016.03.002           8  2016     5   1   \n",
       "4  27131196  10.1016/j.gaitpost.2016.03.005           3  2016     5   1   \n",
       "\n",
       "                                               title       issn   issn_type  \\\n",
       "0  Does \"transition shoe\" promote an intermediate...  1879-2219  Electronic   \n",
       "1  Biomechanical strategies implemented to compen...  1879-2219  Electronic   \n",
       "2  Effects of soft tissue artifacts on differenti...  1879-2219  Electronic   \n",
       "3  Normative EMG patterns of ankle muscle co-cont...  1879-2219  Electronic   \n",
       "4  The effects of predictability on inter-limb po...  1879-2219  Electronic   \n",
       "\n",
       "  volume issue   journal_title journal_title_iso pmid_mesh descriptor_id  \\\n",
       "0     46   NaN  Gait & posture      Gait Posture  20220350       D000293   \n",
       "1     46   NaN  Gait & posture      Gait Posture  20220350       D002648   \n",
       "2     46   NaN  Gait & posture      Gait Posture  20220350       D005820   \n",
       "3     46   NaN  Gait & posture      Gait Posture  20220350       D006801   \n",
       "4     46   NaN  Gait & posture      Gait Posture  20220350       D008382   \n",
       "\n",
       "   descriptor_name descriptor_major_topic  \\\n",
       "0       Adolescent                      N   \n",
       "1            Child                      N   \n",
       "2  Genetic Testing                      N   \n",
       "3           Humans                      N   \n",
       "4  Marfan Syndrome                      N   \n",
       "\n",
       "                                          qualifiers  \n",
       "0                                                 []  \n",
       "1                                                 []  \n",
       "2                                                 []  \n",
       "3                                                 []  \n",
       "4  ['diagnosis', 'drug therapy', 'epidemiology', ...  "
      ]
     },
     "execution_count": 11,
     "metadata": {},
     "output_type": "execute_result"
    }
   ],
   "source": [
    "full_papers.head()"
   ]
  },
  {
   "cell_type": "code",
   "execution_count": 12,
   "metadata": {
    "collapsed": true
   },
   "outputs": [],
   "source": [
    "full_papers.to_csv(full_papers_path,\n",
    "                   sep=',',\n",
    "                   encoding='utf8',\n",
    "                   index=False)"
   ]
  }
 ],
 "metadata": {
  "anaconda-cloud": {},
  "kernelspec": {
   "display_name": "Python [conda root]",
   "language": "python",
   "name": "conda-root-py"
  },
  "language_info": {
   "codemirror_mode": {
    "name": "ipython",
    "version": 3
   },
   "file_extension": ".py",
   "mimetype": "text/x-python",
   "name": "python",
   "nbconvert_exporter": "python",
   "pygments_lexer": "ipython3",
   "version": "3.5.2"
  }
 },
 "nbformat": 4,
 "nbformat_minor": 1
}
